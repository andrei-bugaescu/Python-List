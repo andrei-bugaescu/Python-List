{
  "nbformat": 4,
  "nbformat_minor": 0,
  "metadata": {
    "colab": {
      "name": "Python - List",
      "provenance": [],
      "collapsed_sections": []
    },
    "kernelspec": {
      "name": "python3",
      "display_name": "Python 3"
    }
  },
  "cells": [
    {
      "cell_type": "markdown",
      "metadata": {
        "id": "nD0BS5RlXcm6"
      },
      "source": [
        "# Les collections de données (data structures) - partie 1: Les listes\n",
        "----"
      ]
    },
    {
      "cell_type": "markdown",
      "metadata": {
        "id": "QVBQag6LXh9F"
      },
      "source": [
        "## Les listes"
      ]
    },
    {
      "cell_type": "markdown",
      "metadata": {
        "id": "C30mXvWDgdRs"
      },
      "source": [
        "La liste est probablement la collection de données la plus flexible en python.\n",
        "Elle est <b>muable</b>, ce qui signifie qu'elle peut être modifiée sans limite. <br>\n",
        "Vocabulaire associé aux listes: <b>élément</b> (valeur, datatype, data structure), <b>index</b> (position)"
      ]
    },
    {
      "cell_type": "markdown",
      "metadata": {
        "id": "Xpb3G1-5XlzJ"
      },
      "source": [
        "### Création de listes"
      ]
    },
    {
      "cell_type": "code",
      "metadata": {
        "id": "k8kiZ0buXf7v",
        "colab": {
          "base_uri": "https://localhost:8080/"
        },
        "outputId": "6141c808-40b6-4bdd-a822-849f3784d423"
      },
      "source": [
        "# Création d'une liste simple\n",
        "\n",
        "list1 = [13, \"voiture\", True, 10.35]\n",
        "list1"
      ],
      "execution_count": null,
      "outputs": [
        {
          "output_type": "execute_result",
          "data": {
            "text/plain": [
              "[13, 'voiture', True, 10.35]"
            ]
          },
          "metadata": {},
          "execution_count": 51
        }
      ]
    },
    {
      "cell_type": "code",
      "metadata": {
        "id": "ZPmlpmaDX9AK",
        "colab": {
          "base_uri": "https://localhost:8080/"
        },
        "outputId": "24cf6671-4a43-4e39-8337-ae665d7db22e"
      },
      "source": [
        "# Création d'une liste de listes\n",
        "\n",
        "list2 = [\n",
        "         [1, 2, 3], \n",
        "         [4, 5, 6]\n",
        "        ]\n",
        "list2"
      ],
      "execution_count": null,
      "outputs": [
        {
          "output_type": "execute_result",
          "data": {
            "text/plain": [
              "[[1, 2, 3], [4, 5, 6]]"
            ]
          },
          "metadata": {},
          "execution_count": 52
        }
      ]
    },
    {
      "cell_type": "code",
      "metadata": {
        "id": "tAv3FVMdYjMG",
        "colab": {
          "base_uri": "https://localhost:8080/"
        },
        "outputId": "732b404c-7573-474a-b0b2-c3b9d20bf7ea"
      },
      "source": [
        "# Création d'une liste contenant plusieurs collections de données\n",
        "\n",
        "list3 = [[1, 2, 3], {\"prenom\": [\"Benoit\", \"Clarisse\", \"Emilie\", \"Andrei\"]}, (4, 5, 6)]\n",
        "list3"
      ],
      "execution_count": null,
      "outputs": [
        {
          "output_type": "execute_result",
          "data": {
            "text/plain": [
              "[[1, 2, 3], {'prenom': ['Benoit', 'Clarisse', 'Emilie', 'Andrei']}, (4, 5, 6)]"
            ]
          },
          "metadata": {},
          "execution_count": 53
        }
      ]
    },
    {
      "cell_type": "markdown",
      "metadata": {
        "id": "_iqwPVftZ-nx"
      },
      "source": [
        "### Récupération d'éléments d'une liste via les indices (index)"
      ]
    },
    {
      "cell_type": "code",
      "metadata": {
        "id": "IwLLLEghQWYn"
      },
      "source": [
        "list_int = [1, 2, 3, 4, 5, \"camion\"]"
      ],
      "execution_count": null,
      "outputs": []
    },
    {
      "cell_type": "code",
      "metadata": {
        "colab": {
          "base_uri": "https://localhost:8080/"
        },
        "id": "YRTLqe-raE38",
        "outputId": "c35f7d8b-a9af-4652-967b-c715209e0c02"
      },
      "source": [
        "# indexing : indice défini\n",
        "\n",
        "list_int[2]"
      ],
      "execution_count": null,
      "outputs": [
        {
          "output_type": "execute_result",
          "data": {
            "text/plain": [
              "3"
            ]
          },
          "metadata": {},
          "execution_count": 55
        }
      ]
    },
    {
      "cell_type": "code",
      "metadata": {
        "colab": {
          "base_uri": "https://localhost:8080/",
          "height": 35
        },
        "id": "MgaG41_KWhJn",
        "outputId": "edb4df06-8860-40e4-cd73-1b82e09775b6"
      },
      "source": [
        "list_int[-1]"
      ],
      "execution_count": null,
      "outputs": [
        {
          "output_type": "execute_result",
          "data": {
            "application/vnd.google.colaboratory.intrinsic+json": {
              "type": "string"
            },
            "text/plain": [
              "'camion'"
            ]
          },
          "metadata": {},
          "execution_count": 56
        }
      ]
    },
    {
      "cell_type": "code",
      "metadata": {
        "colab": {
          "base_uri": "https://localhost:8080/"
        },
        "id": "8iABQI4yajhW",
        "outputId": "9489973b-91b1-41df-e689-5a25a8dc78a3"
      },
      "source": [
        "# slicing: tout jusqu'à l'indice (index) 3 exclu\n",
        "\n",
        "list_int[:3]\n",
        "\n",
        "# -- OU -- \n",
        "\n",
        "list_int[0:3]"
      ],
      "execution_count": null,
      "outputs": [
        {
          "output_type": "execute_result",
          "data": {
            "text/plain": [
              "[1, 2, 3]"
            ]
          },
          "metadata": {},
          "execution_count": 57
        }
      ]
    },
    {
      "cell_type": "code",
      "metadata": {
        "colab": {
          "base_uri": "https://localhost:8080/"
        },
        "id": "jA-9S21zb6GP",
        "outputId": "d916211b-34e2-4a92-9ec5-8409f9ce4ecb"
      },
      "source": [
        "# slicing : les éléments 4 et 5 inclus de la liste\n",
        "\n",
        "list_int[-3:-1]"
      ],
      "execution_count": null,
      "outputs": [
        {
          "output_type": "execute_result",
          "data": {
            "text/plain": [
              "[4, 5]"
            ]
          },
          "metadata": {},
          "execution_count": 58
        }
      ]
    },
    {
      "cell_type": "code",
      "metadata": {
        "colab": {
          "base_uri": "https://localhost:8080/"
        },
        "id": "O-Cz_TiacnHm",
        "outputId": "62b598d4-93ff-434e-98d2-9fa04dfe73b6"
      },
      "source": [
        "# slicing: tous les élements de la liste, de 2 en 2\n",
        "\n",
        "list_int[::2]"
      ],
      "execution_count": null,
      "outputs": [
        {
          "output_type": "execute_result",
          "data": {
            "text/plain": [
              "[1, 3, 5]"
            ]
          },
          "metadata": {},
          "execution_count": 59
        }
      ]
    },
    {
      "cell_type": "code",
      "metadata": {
        "colab": {
          "base_uri": "https://localhost:8080/"
        },
        "id": "kH414jWXYouW",
        "outputId": "0587a920-7f34-45f9-a02d-0bab78dc1d91"
      },
      "source": [
        "# slicing : tous les éléments de la liste en partant de l'élément à l'index 1, de 2 en 2\n",
        "\n",
        "list_int[1::2]"
      ],
      "execution_count": null,
      "outputs": [
        {
          "output_type": "execute_result",
          "data": {
            "text/plain": [
              "[2, 4, 'camion']"
            ]
          },
          "metadata": {},
          "execution_count": 60
        }
      ]
    },
    {
      "cell_type": "code",
      "metadata": {
        "colab": {
          "base_uri": "https://localhost:8080/"
        },
        "id": "e0NBVeNeY_8-",
        "outputId": "26e7b57e-c7c3-42ff-e282-2c4da1beb77d"
      },
      "source": [
        "# slicing: tous les élements jusqu'à l'index 4 exclu, de 2 en 2\n",
        "\n",
        "list_int[:4:2]"
      ],
      "execution_count": null,
      "outputs": [
        {
          "output_type": "execute_result",
          "data": {
            "text/plain": [
              "[1, 3]"
            ]
          },
          "metadata": {},
          "execution_count": 61
        }
      ]
    },
    {
      "cell_type": "code",
      "metadata": {
        "colab": {
          "base_uri": "https://localhost:8080/"
        },
        "id": "ZZBU4jwPZWXx",
        "outputId": "7db4db7f-5103-4fbf-ee89-d43732805850"
      },
      "source": [
        "# indexing: le 1er élément de la liste de listes\n",
        "\n",
        "list2[1]"
      ],
      "execution_count": null,
      "outputs": [
        {
          "output_type": "execute_result",
          "data": {
            "text/plain": [
              "[4, 5, 6]"
            ]
          },
          "metadata": {},
          "execution_count": 62
        }
      ]
    },
    {
      "cell_type": "code",
      "metadata": {
        "colab": {
          "base_uri": "https://localhost:8080/"
        },
        "id": "EJJIQqKbZr4V",
        "outputId": "85965f42-998c-422f-9f10-6dcd48cc284e"
      },
      "source": [
        "# indexing: l'élément qui a pour valeur \"2\" dans la liste de listes\n",
        "\n",
        "list2[0][1]"
      ],
      "execution_count": null,
      "outputs": [
        {
          "output_type": "execute_result",
          "data": {
            "text/plain": [
              "2"
            ]
          },
          "metadata": {},
          "execution_count": 63
        }
      ]
    },
    {
      "cell_type": "markdown",
      "metadata": {
        "id": "o4gHNXacetth"
      },
      "source": [
        "### Ajouter des éléments dans une liste"
      ]
    },
    {
      "cell_type": "markdown",
      "metadata": {
        "id": "OQCp1Gice9-i"
      },
      "source": [
        "- .append(element) -> ajouter UN élément en dernière position (index -1)\n",
        "- .insert(index, element) -> ajouter UN élément à l'index spécifié \n",
        "- .extend(element/liste) -> ajouter UN ou PLUSIEURS éléments en dernières postions"
      ]
    },
    {
      "cell_type": "code",
      "metadata": {
        "id": "RWKvM0kVfGAs"
      },
      "source": [
        "cours = [\"Histoire\", \"SVT\", \"EPS\", \"Arts Plastiques\"]"
      ],
      "execution_count": null,
      "outputs": []
    },
    {
      "cell_type": "code",
      "metadata": {
        "colab": {
          "base_uri": "https://localhost:8080/"
        },
        "id": "t5JhoDKZfnUE",
        "outputId": "9ebcbc57-146e-45af-f87f-66b9de3d7240"
      },
      "source": [
        "# méthode \".append()\"\n",
        "\n",
        "cours.append(\"Maths\")\n",
        "cours"
      ],
      "execution_count": null,
      "outputs": [
        {
          "output_type": "execute_result",
          "data": {
            "text/plain": [
              "['Histoire', 'SVT', 'EPS', 'Arts Plastiques', 'Maths']"
            ]
          },
          "metadata": {},
          "execution_count": 65
        }
      ]
    },
    {
      "cell_type": "code",
      "metadata": {
        "colab": {
          "base_uri": "https://localhost:8080/"
        },
        "id": "6bxmYD6Advw_",
        "outputId": "8878c081-05a7-4645-a60b-aeeeda2b7deb"
      },
      "source": [
        "# méthode \".insert()\"\n",
        "\n",
        "cours.insert(2, \"Musique\")\n",
        "cours"
      ],
      "execution_count": null,
      "outputs": [
        {
          "output_type": "execute_result",
          "data": {
            "text/plain": [
              "['Histoire', 'SVT', 'Musique', 'EPS', 'Arts Plastiques', 'Maths']"
            ]
          },
          "metadata": {},
          "execution_count": 66
        }
      ]
    },
    {
      "cell_type": "code",
      "metadata": {
        "colab": {
          "base_uri": "https://localhost:8080/"
        },
        "id": "5ykKEZGSf638",
        "outputId": "c0d61838-69ad-4c57-e3b7-13b7b814ce97"
      },
      "source": [
        "# méthode \".extend()\"\n",
        "\n",
        "cours_2 = [\"Anglais\", \"Espagnol\", \"Allemand\"]\n",
        "\n",
        "cours.extend(cours_2)\n",
        "cours"
      ],
      "execution_count": null,
      "outputs": [
        {
          "output_type": "execute_result",
          "data": {
            "text/plain": [
              "['Histoire',\n",
              " 'SVT',\n",
              " 'Musique',\n",
              " 'EPS',\n",
              " 'Arts Plastiques',\n",
              " 'Maths',\n",
              " 'Anglais',\n",
              " 'Espagnol',\n",
              " 'Allemand']"
            ]
          },
          "metadata": {},
          "execution_count": 67
        }
      ]
    },
    {
      "cell_type": "markdown",
      "metadata": {
        "id": "LXJCbcjnhSU7"
      },
      "source": [
        "### Modification d'un/plusieurs élément(s) d'une liste"
      ]
    },
    {
      "cell_type": "code",
      "metadata": {
        "colab": {
          "base_uri": "https://localhost:8080/"
        },
        "id": "mOYNZfz8hoZq",
        "outputId": "0d47f79b-d9b6-4d86-d8c8-3c09ddab04a7"
      },
      "source": [
        "# modification d'un élément d'une liste (à un indice spécifié)\n",
        "\n",
        "cours[2] = \"Géographie\"\n",
        "cours"
      ],
      "execution_count": null,
      "outputs": [
        {
          "output_type": "execute_result",
          "data": {
            "text/plain": [
              "['Histoire',\n",
              " 'SVT',\n",
              " 'Géographie',\n",
              " 'EPS',\n",
              " 'Arts Plastiques',\n",
              " 'Maths',\n",
              " 'Anglais',\n",
              " 'Espagnol',\n",
              " 'Allemand']"
            ]
          },
          "metadata": {},
          "execution_count": 68
        }
      ]
    },
    {
      "cell_type": "code",
      "metadata": {
        "colab": {
          "base_uri": "https://localhost:8080/"
        },
        "id": "SWxMyaWCh50p",
        "outputId": "16b19ebf-ed19-4332-d6bd-107fcaa74c13"
      },
      "source": [
        "# Modification de plusieurs éléments d'une liste (aux indices spécifiés)\n",
        "\n",
        "cours[2:5] = \"Latin\", \"Grec\", \"Arabe\"\n",
        "cours"
      ],
      "execution_count": null,
      "outputs": [
        {
          "output_type": "execute_result",
          "data": {
            "text/plain": [
              "['Histoire',\n",
              " 'SVT',\n",
              " 'Latin',\n",
              " 'Grec',\n",
              " 'Arabe',\n",
              " 'Maths',\n",
              " 'Anglais',\n",
              " 'Espagnol',\n",
              " 'Allemand']"
            ]
          },
          "metadata": {},
          "execution_count": 69
        }
      ]
    },
    {
      "cell_type": "markdown",
      "metadata": {
        "id": "dpePZmy8iS6q"
      },
      "source": [
        "### Supprimer des éléments d'une liste"
      ]
    },
    {
      "cell_type": "markdown",
      "metadata": {
        "id": "cz5XysFI8Vlt"
      },
      "source": [
        "- .pop(index) -> supprimer UN élément par rapport à son index\n",
        "- .remove(element) -> supprimer un élément par rapport à sa valeur\n"
      ]
    },
    {
      "cell_type": "code",
      "metadata": {
        "colab": {
          "base_uri": "https://localhost:8080/",
          "height": 35
        },
        "id": "vlm_4INB9De5",
        "outputId": "501dc112-18cf-4e94-d8cc-1e429964ff24"
      },
      "source": [
        "# méthode \".pop()\"\n",
        "\n",
        "removed = cours.pop(-3)\n",
        "removed"
      ],
      "execution_count": null,
      "outputs": [
        {
          "output_type": "execute_result",
          "data": {
            "application/vnd.google.colaboratory.intrinsic+json": {
              "type": "string"
            },
            "text/plain": [
              "'Anglais'"
            ]
          },
          "metadata": {},
          "execution_count": 70
        }
      ]
    },
    {
      "cell_type": "code",
      "metadata": {
        "colab": {
          "base_uri": "https://localhost:8080/"
        },
        "id": "fk3TIT0uPqCx",
        "outputId": "75bd8835-1a6a-4f50-cb75-8e3c1cc9bb96"
      },
      "source": [
        "cours"
      ],
      "execution_count": null,
      "outputs": [
        {
          "output_type": "execute_result",
          "data": {
            "text/plain": [
              "['Histoire', 'SVT', 'Latin', 'Grec', 'Arabe', 'Maths', 'Espagnol', 'Allemand']"
            ]
          },
          "metadata": {},
          "execution_count": 71
        }
      ]
    },
    {
      "cell_type": "code",
      "metadata": {
        "colab": {
          "base_uri": "https://localhost:8080/"
        },
        "id": "KoKrCk369Zug",
        "outputId": "14315d54-035f-4ecb-e92b-4347f89b42de"
      },
      "source": [
        "# méthode \".remove()\"\n",
        "\n",
        "cours.remove(\"SVT\")\n",
        "cours"
      ],
      "execution_count": null,
      "outputs": [
        {
          "output_type": "execute_result",
          "data": {
            "text/plain": [
              "['Histoire', 'Latin', 'Grec', 'Arabe', 'Maths', 'Espagnol', 'Allemand']"
            ]
          },
          "metadata": {},
          "execution_count": 72
        }
      ]
    },
    {
      "cell_type": "code",
      "metadata": {
        "id": "9piJNUQrQHRK",
        "colab": {
          "base_uri": "https://localhost:8080/"
        },
        "outputId": "d08c08f1-ba5a-4ca7-d694-63162e90d9f3"
      },
      "source": [
        "# Alternative: del\n",
        "\n",
        "del cours[-2]\n",
        "cours"
      ],
      "execution_count": null,
      "outputs": [
        {
          "output_type": "execute_result",
          "data": {
            "text/plain": [
              "['Histoire', 'Latin', 'Grec', 'Arabe', 'Maths', 'Allemand']"
            ]
          },
          "metadata": {},
          "execution_count": 73
        }
      ]
    },
    {
      "cell_type": "markdown",
      "metadata": {
        "id": "PAgr5kIo-uwi"
      },
      "source": [
        "### Classer les éléments d'une liste\n",
        "\n",
        "\n"
      ]
    },
    {
      "cell_type": "code",
      "metadata": {
        "colab": {
          "base_uri": "https://localhost:8080/"
        },
        "id": "6F5S6qfK-29D",
        "outputId": "7c4c7691-83f3-43cd-ad50-06c89a110f4e"
      },
      "source": [
        "# solution 1: la méthode \".sort()\"\n",
        "\n",
        "cours.sort()\n",
        "cours"
      ],
      "execution_count": null,
      "outputs": [
        {
          "output_type": "execute_result",
          "data": {
            "text/plain": [
              "['Allemand', 'Arabe', 'Grec', 'Histoire', 'Latin', 'Maths']"
            ]
          },
          "metadata": {},
          "execution_count": 74
        }
      ]
    },
    {
      "cell_type": "code",
      "metadata": {
        "colab": {
          "base_uri": "https://localhost:8080/"
        },
        "id": "jlMwv0Wafmj3",
        "outputId": "9dcfb163-6b98-4a94-9a9e-e47a3792b6ac"
      },
      "source": [
        "cours.sort(reverse=True)\n",
        "cours"
      ],
      "execution_count": null,
      "outputs": [
        {
          "output_type": "execute_result",
          "data": {
            "text/plain": [
              "['Maths', 'Latin', 'Histoire', 'Grec', 'Arabe', 'Allemand']"
            ]
          },
          "metadata": {},
          "execution_count": 75
        }
      ]
    },
    {
      "cell_type": "code",
      "metadata": {
        "id": "5djouW26_DBS",
        "colab": {
          "base_uri": "https://localhost:8080/"
        },
        "outputId": "f729b13a-b284-4a54-f812-9a0394b7c198"
      },
      "source": [
        "# solution 2: la fonction \"sorted()\". Le classement ne s'applique pas automatiquement.\n",
        "\n",
        "cours = sorted(cours)\n",
        "cours"
      ],
      "execution_count": null,
      "outputs": [
        {
          "output_type": "execute_result",
          "data": {
            "text/plain": [
              "['Allemand', 'Arabe', 'Grec', 'Histoire', 'Latin', 'Maths']"
            ]
          },
          "metadata": {},
          "execution_count": 77
        }
      ]
    },
    {
      "cell_type": "markdown",
      "metadata": {
        "id": "BKsw4NsX9_Nn"
      },
      "source": [
        "### Itérer dans une liste"
      ]
    },
    {
      "cell_type": "code",
      "metadata": {
        "colab": {
          "base_uri": "https://localhost:8080/"
        },
        "id": "LTf8QFlqTcXq",
        "outputId": "5148f61f-74e2-4030-cdb8-c523f68d3bf3"
      },
      "source": [
        "for i in range(len(cours)):\n",
        "  print(\"Cours n°{}: {}\" .format(i, cours[i]))"
      ],
      "execution_count": null,
      "outputs": [
        {
          "output_type": "stream",
          "name": "stdout",
          "text": [
            "Cours n°0: Allemand\n",
            "Cours n°1: Arabe\n",
            "Cours n°2: Grec\n",
            "Cours n°3: Histoire\n",
            "Cours n°4: Latin\n",
            "Cours n°5: Maths\n"
          ]
        }
      ]
    },
    {
      "cell_type": "code",
      "metadata": {
        "colab": {
          "base_uri": "https://localhost:8080/"
        },
        "id": "u8MQ59TjhfCj",
        "outputId": "58fa10a4-14e1-4737-d9f2-fef0a915a532"
      },
      "source": [
        "list(enumerate(cours))"
      ],
      "execution_count": null,
      "outputs": [
        {
          "output_type": "execute_result",
          "data": {
            "text/plain": [
              "[(0, 'Allemand'),\n",
              " (1, 'Arabe'),\n",
              " (2, 'Grec'),\n",
              " (3, 'Histoire'),\n",
              " (4, 'Latin'),\n",
              " (5, 'Maths')]"
            ]
          },
          "metadata": {},
          "execution_count": 79
        }
      ]
    },
    {
      "cell_type": "markdown",
      "metadata": {
        "id": "yBCBTk1T_p03"
      },
      "source": [
        "----"
      ]
    },
    {
      "cell_type": "markdown",
      "metadata": {
        "id": "_cipzW1K_mxt"
      },
      "source": [
        "### Ressources"
      ]
    },
    {
      "cell_type": "markdown",
      "metadata": {
        "id": "Dys0sGdwekVQ"
      },
      "source": [
        "- List manipulation with python: https://towardsdatascience.com/python-basics-6-lists-and-list-manipulation-a56be62b1f95\n",
        "- Python List/Array Methods: https://www.w3schools.com/python/python_ref_list.asp\n",
        "- Indexing and slicing in lists: https://railsware.com/blog/python-for-machine-learning-indexing-and-slicing-for-lists-tuples-strings-and-other-sequential-types/\n",
        "- List comprehension: https://python.doctor/page-comprehension-list-listes-python-cours-debutants"
      ]
    }
  ]
}